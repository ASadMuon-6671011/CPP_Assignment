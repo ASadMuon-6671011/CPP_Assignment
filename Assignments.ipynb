{
 "cells": [
  {
   "cell_type": "markdown",
   "metadata": {},
   "source": [
    "# **Basic Python**"
   ]
  },
  {
   "cell_type": "markdown",
   "metadata": {},
   "source": [
    "## 1.a \n",
    "Give a function F that takes a single argument n. This function should print a sequence of n strings as described in the examples below: <br>\n",
    "Ex: **n = 3**\n",
    "\n",
    "--A--<br>\n",
    "-BAB-<br>\n",
    "CBABC<br>\n",
    "\n",
    "**n = 4**\n",
    "\n",
    "---A---<br>\n",
    "--BAB--<br>\n",
    "-CBABC-<br>\n",
    "DCBABCD"
   ]
  },
  {
   "cell_type": "code",
   "execution_count": 4,
   "metadata": {},
   "outputs": [
    {
     "name": "stdout",
     "output_type": "stream",
     "text": [
      "---------A---------\n",
      "--------BAB--------\n",
      "-------CBABC-------\n",
      "------DCBABCD------\n",
      "-----EDCBABCDE-----\n",
      "----FEDCBABCDEF----\n",
      "---GFEDCBABCDEFG---\n",
      "--HGFEDCBABCDEFGH--\n",
      "-IHGFEDCBABCDEFGHI-\n",
      "JIHGFEDCBABCDEFGHIJ\n",
      "\n",
      "-----A-----\n",
      "----BAB----\n",
      "---CBABC---\n",
      "--DCBABCD--\n",
      "-EDCBABCDE-\n",
      "FEDCBABCDEF\n",
      "\n"
     ]
    }
   ],
   "source": [
    "char_lis = []\n",
    "for i in range(65,91):\n",
    "    char_lis.append(chr(i))\n",
    "\n",
    "def F(n):\n",
    "    # Start coding\n",
    "    for k in range(n-1,-1,-1): # printing line by line\n",
    "        print('-'*k,end='')\n",
    "        for j in range(2*n-1-2*k):\n",
    "            print(char_lis[abs(j-n+k+1)],end='')\n",
    "        print('-'*k,end='')\n",
    "        print()\n",
    "    print()\n",
    "# Tests\n",
    "F(10)\n",
    "F(6)"
   ]
  },
  {
   "cell_type": "markdown",
   "metadata": {},
   "source": [
    "## 1.b\n",
    "Make a function F that takes only one argument, a dictionary(dict) d.\n",
    "The keys of d are integers and the values of d are a tuple of type (x (int), y (int)).\n",
    "You must print out the dict in the format \"-key-, -x-, -y-\" with each entry in a new line. Print it for each of the three sorted orders, by key values ascending, by x values descending, by y values ascending."
   ]
  },
  {
   "cell_type": "code",
   "execution_count": null,
   "metadata": {},
   "outputs": [
    {
     "name": "stdout",
     "output_type": "stream",
     "text": [
      "Key Values Ascending\n",
      "-key-, -x-, -y-\n",
      "- 1 -, - 1 -, - 2 -\n",
      "- 2 -, - -1 -, - 4 -\n",
      "- 4 -, - 2 -, - 3 -\n",
      "- 5 -, - -4 -, - 3 -\n",
      "x Values Descending\n",
      "y Values Ascending\n",
      "\n",
      "Key Values Ascending\n",
      "-key-, -x-, -y-\n",
      "- -8 -, - 4 -, - 2 -\n",
      "- 5 -, - 9 -, - -10 -\n",
      "- 6 -, - -3 -, - 4 -\n",
      "- 7 -, - 2 -, - 1 -\n",
      "x Values Descending\n",
      "y Values Ascending\n",
      "\n"
     ]
    }
   ],
   "source": [
    "def F(d : dict):\n",
    "    # Start coding\n",
    "    x_desc, y_asc = [],[]\n",
    "    print('key values ascending')\n",
    "    print('-key-, -x-, -y-')\n",
    "    for k in sorted(list(d.keys())):\n",
    "        print('-',k,'-,','-',d[k][0],'-,','-',d[k][1],'-')\n",
    "        x_desc.append(d[k][0])\n",
    "        y_asc.append(d[k][1])\n",
    "    x_desc.sort(reverse=True)\n",
    "    y_asc.sort()\n",
    "    print('x Values Descending')\n",
    "    print('y Values Ascending')\n",
    "    print()\n",
    "# Tests\n",
    "F({1 : (1, 2), 2 : (-1, 4), 5 : (-4, 3), 4 : (2, 3)})\n",
    "F({-8 : (4, 2), 6 : (-3, 4), 7 : (2, 1), 5 : (9, -10)})"
   ]
  },
  {
   "cell_type": "markdown",
   "metadata": {},
   "source": [
    "## 2 Working with Student Records\n",
    "\n",
    "Use the data in **student_records.csv** to complete the given tasks. Do not include any external libraries. Use a Python dictionary if required.\n",
    "\n",
    "### Reference\n",
    "- [Python Dictionaries](https://www.w3schools.com/python/python_dictionaries.asp)\n"
   ]
  },
  {
   "cell_type": "markdown",
   "metadata": {},
   "source": [
    "#### 2.a: open the student_records.csv file and print out the first 10 rows"
   ]
  },
  {
   "cell_type": "code",
   "execution_count": null,
   "metadata": {},
   "outputs": [
    {
     "name": "stdout",
     "output_type": "stream",
     "text": [
      "first 10 rows are printed below: \n",
      " \n",
      "['roll_number', 'department', 'credit', 'course_name', 'course_type', 'grade\\n']\n",
      "['588946', 'MA', '3', 'EC250', 'hasmed_elective', 'AB\\n']\n",
      "['145372', 'EP', '4', 'EP407', 'hasmed_elective', 'CC\\n']\n",
      "['834515', 'MA', '8', 'EP885', 'hasmed_elective', 'BB\\n']\n",
      "['344265', 'CSE', '6', 'CSE699', 'honours', 'AB\\n']\n",
      "['358405', 'MA', '3', 'EE460', 'minor', 'AP\\n']\n",
      "['781075', 'CE', '8', 'CE540', 'honours', 'CC\\n']\n",
      "['180828', 'CSE', '6', 'CE880', 'minor', 'AB\\n']\n",
      "['981238', 'MM', '4', 'CSE226', 'minor', 'AB\\n']\n",
      "['836881', 'MM', '8', 'MM530', 'core', 'AA\\n']\n",
      "['310604', 'EE', '8', 'EE202', 'core', 'AB\\n']\n"
     ]
    }
   ],
   "source": [
    "f = open('student_records.csv', \"r\") # opening ze file w/o csv library, using built-in open hehe\n",
    "count  = 0\n",
    "print(\"first 10 rows are printed below: \\n \")\n",
    "for x in f:\n",
    "    if count <= 10:  # printing just first 10 rows wheeee\n",
    "        print(x.split(','))\n",
    "    count += 1"
   ]
  },
  {
   "cell_type": "markdown",
   "metadata": {},
   "source": [
    "#### 2.b: Print out the total credits and calculte CPI of each student. \n",
    "CPI is the weighted average of core courses, and electives (weights being the letter grades converted to number AP,AA=10, AB=9, BB=9, BC=7, CC=6)"
   ]
  },
  {
   "cell_type": "code",
   "execution_count": null,
   "metadata": {},
   "outputs": [
    {
     "name": "stdout",
     "output_type": "stream",
     "text": [
      "total credits and cpi printed in increasing order of roll numbers: \n",
      "\n",
      "Roll No: 124663 Total Credits: 229 CPI: 8.13\n",
      "Roll No: 138296 Total Credits: 200 CPI: 8.28\n",
      "Roll No: 143142 Total Credits: 234 CPI: 8.78\n",
      "Roll No: 143856 Total Credits: 201 CPI: 8.49\n",
      "Roll No: 144528 Total Credits: 228 CPI: 8.16\n",
      "Roll No: 145372 Total Credits: 173 CPI: 7.75\n",
      "Roll No: 150503 Total Credits: 173 CPI: 8.29\n",
      "Roll No: 159438 Total Credits: 176 CPI: 8.38\n",
      "Roll No: 180828 Total Credits: 177 CPI: 8.1\n",
      "Roll No: 194063 Total Credits: 157 CPI: 8.14\n",
      "Roll No: 199713 Total Credits: 172 CPI: 8.29\n",
      "Roll No: 203200 Total Credits: 157 CPI: 8.79\n",
      "Roll No: 207443 Total Credits: 161 CPI: 8.3\n",
      "Roll No: 208100 Total Credits: 182 CPI: 8.59\n",
      "Roll No: 214270 Total Credits: 229 CPI: 7.88\n",
      "Roll No: 265922 Total Credits: 236 CPI: 8.35\n",
      "Roll No: 270007 Total Credits: 241 CPI: 8.03\n",
      "Roll No: 282482 Total Credits: 228 CPI: 8.29\n",
      "Roll No: 283796 Total Credits: 211 CPI: 8.82\n",
      "Roll No: 294697 Total Credits: 269 CPI: 8.57\n",
      "Roll No: 301135 Total Credits: 206 CPI: 8.33\n",
      "Roll No: 310604 Total Credits: 198 CPI: 8.33\n",
      "Roll No: 327122 Total Credits: 246 CPI: 8.16\n",
      "Roll No: 329535 Total Credits: 157 CPI: 8.23\n",
      "Roll No: 344265 Total Credits: 153 CPI: 8.7\n",
      "Roll No: 358405 Total Credits: 206 CPI: 8.59\n",
      "Roll No: 362471 Total Credits: 214 CPI: 7.93\n",
      "Roll No: 364146 Total Credits: 225 CPI: 8.4\n",
      "Roll No: 379479 Total Credits: 260 CPI: 8.25\n",
      "Roll No: 381227 Total Credits: 179 CPI: 8.22\n",
      "Roll No: 381526 Total Credits: 160 CPI: 8.43\n",
      "Roll No: 388969 Total Credits: 229 CPI: 8.31\n",
      "Roll No: 391848 Total Credits: 217 CPI: 8.44\n",
      "Roll No: 458200 Total Credits: 190 CPI: 8.39\n",
      "Roll No: 461584 Total Credits: 234 CPI: 8.24\n",
      "Roll No: 461971 Total Credits: 252 CPI: 8.29\n",
      "Roll No: 465496 Total Credits: 168 CPI: 8.3\n",
      "Roll No: 478606 Total Credits: 244 CPI: 8.32\n",
      "Roll No: 482623 Total Credits: 254 CPI: 8.4\n",
      "Roll No: 485484 Total Credits: 216 CPI: 8.36\n",
      "Roll No: 488661 Total Credits: 248 CPI: 8.6\n",
      "Roll No: 500658 Total Credits: 208 CPI: 8.17\n",
      "Roll No: 517837 Total Credits: 205 CPI: 8.58\n",
      "Roll No: 521087 Total Credits: 223 CPI: 7.91\n",
      "Roll No: 534763 Total Credits: 158 CPI: 7.93\n",
      "Roll No: 571782 Total Credits: 217 CPI: 8.42\n",
      "Roll No: 572815 Total Credits: 212 CPI: 8.32\n",
      "Roll No: 581065 Total Credits: 196 CPI: 8.22\n",
      "Roll No: 581858 Total Credits: 216 CPI: 8.05\n",
      "Roll No: 582912 Total Credits: 221 CPI: 8.66\n",
      "Roll No: 588946 Total Credits: 199 CPI: 8.69\n",
      "Roll No: 589528 Total Credits: 153 CPI: 8.73\n",
      "Roll No: 597353 Total Credits: 200 CPI: 8.12\n",
      "Roll No: 608522 Total Credits: 159 CPI: 8.61\n",
      "Roll No: 608952 Total Credits: 251 CPI: 8.33\n",
      "Roll No: 613401 Total Credits: 209 CPI: 8.44\n",
      "Roll No: 626000 Total Credits: 210 CPI: 8.43\n",
      "Roll No: 628849 Total Credits: 183 CPI: 8.72\n",
      "Roll No: 630568 Total Credits: 217 CPI: 8.24\n",
      "Roll No: 680096 Total Credits: 153 CPI: 8.05\n",
      "Roll No: 681499 Total Credits: 234 CPI: 8.26\n",
      "Roll No: 692318 Total Credits: 216 CPI: 8.17\n",
      "Roll No: 703403 Total Credits: 254 CPI: 8.34\n",
      "Roll No: 716985 Total Credits: 185 CPI: 8.18\n",
      "Roll No: 718510 Total Credits: 184 CPI: 8.43\n",
      "Roll No: 721490 Total Credits: 235 CPI: 8.34\n",
      "Roll No: 733782 Total Credits: 169 CPI: 8.42\n",
      "Roll No: 750259 Total Credits: 209 CPI: 8.35\n",
      "Roll No: 773982 Total Credits: 264 CPI: 8.07\n",
      "Roll No: 775967 Total Credits: 197 CPI: 8.43\n",
      "Roll No: 781075 Total Credits: 246 CPI: 8.17\n",
      "Roll No: 782129 Total Credits: 184 CPI: 8.54\n",
      "Roll No: 787967 Total Credits: 192 CPI: 8.41\n",
      "Roll No: 788020 Total Credits: 193 CPI: 8.02\n",
      "Roll No: 810863 Total Credits: 192 CPI: 8.15\n",
      "Roll No: 816041 Total Credits: 158 CPI: 8.46\n",
      "Roll No: 834515 Total Credits: 199 CPI: 8.22\n",
      "Roll No: 836431 Total Credits: 160 CPI: 7.9\n",
      "Roll No: 836881 Total Credits: 246 CPI: 8.39\n",
      "Roll No: 841365 Total Credits: 177 CPI: 7.99\n",
      "Roll No: 845623 Total Credits: 237 CPI: 8.38\n",
      "Roll No: 847809 Total Credits: 261 CPI: 8.21\n",
      "Roll No: 851029 Total Credits: 161 CPI: 8.32\n",
      "Roll No: 870642 Total Credits: 161 CPI: 8.02\n",
      "Roll No: 871746 Total Credits: 216 CPI: 8.21\n",
      "Roll No: 879634 Total Credits: 203 CPI: 8.74\n",
      "Roll No: 881983 Total Credits: 169 CPI: 8.33\n",
      "Roll No: 888886 Total Credits: 207 CPI: 8.27\n",
      "Roll No: 907454 Total Credits: 245 CPI: 8.27\n",
      "Roll No: 928288 Total Credits: 191 CPI: 8.51\n",
      "Roll No: 955757 Total Credits: 251 CPI: 8.29\n",
      "Roll No: 960395 Total Credits: 262 CPI: 8.63\n",
      "Roll No: 970791 Total Credits: 220 CPI: 8.12\n",
      "Roll No: 971123 Total Credits: 210 CPI: 7.96\n",
      "Roll No: 973158 Total Credits: 193 CPI: 8.51\n",
      "Roll No: 981238 Total Credits: 168 CPI: 8.24\n",
      "Roll No: 986057 Total Credits: 199 CPI: 8.07\n",
      "Roll No: 993835 Total Credits: 175 CPI: 8.43\n",
      "Roll No: 995208 Total Credits: 157 CPI: 7.78\n",
      "Roll No: 998293 Total Credits: 207 CPI: 8.7\n"
     ]
    }
   ],
   "source": [
    "grade_dict = {'AP\\n':10,'AA\\n':10,'AB\\n':9,'BB\\n':8,'BC\\n':7,'CC\\n':6}\n",
    "\n",
    "stud_dict = {} # {rollno : [total_creds, creds*grade sum]} \n",
    "count = 0\n",
    "f = open('student_records.csv', \"r\")\n",
    "for x in f:\n",
    "    row = x.split(',')\n",
    "    if count > 0:\n",
    "        if int(row[0]) not in stud_dict.keys():\n",
    "            stud_dict[int(row[0])] = [int(row[2]),int(row[2])*grade_dict[row[-1]]] # constructing the list if it's not present\n",
    "        else: \n",
    "            stud_dict[int(row[0])][0] += int(row[2])\n",
    "            stud_dict[int(row[0])][1] += int(row[2])*grade_dict[row[-1]]\n",
    "    count+=1\n",
    "\n",
    "print(\"total credits and cpi printed in increasing order of roll numbers: \\n\")\n",
    "\n",
    "for i in sorted(stud_dict.keys()):\n",
    "    print(\"Roll No:\",i,\"Total Credits:\",stud_dict[i][0],\"CPI:\",round(stud_dict[i][1]/stud_dict[i][0],2))"
   ]
  },
  {
   "cell_type": "markdown",
   "metadata": {},
   "source": [
    "#### 2.c: Print out the names of all students who meet the graduation requirements \n",
    "Atleast 20 credist of core course, 15 credits of department elective, 10 credits of flexible elective and 5 credits of hasmed electives"
   ]
  },
  {
   "cell_type": "code",
   "execution_count": 31,
   "metadata": {},
   "outputs": [
    {
     "name": "stdout",
     "output_type": "stream",
     "text": [
      "students meeting graduation requirements: \n",
      "\n",
      "Roll No: 124663\n",
      "Roll No: 143142\n",
      "Roll No: 143856\n",
      "Roll No: 144528\n",
      "Roll No: 150503\n",
      "Roll No: 159438\n",
      "Roll No: 180828\n",
      "Roll No: 203200\n",
      "Roll No: 207443\n",
      "Roll No: 214270\n",
      "Roll No: 265922\n",
      "Roll No: 282482\n",
      "Roll No: 283796\n",
      "Roll No: 294697\n",
      "Roll No: 310604\n",
      "Roll No: 327122\n",
      "Roll No: 362471\n",
      "Roll No: 379479\n",
      "Roll No: 381227\n",
      "Roll No: 388969\n",
      "Roll No: 391848\n",
      "Roll No: 461971\n",
      "Roll No: 482623\n",
      "Roll No: 485484\n",
      "Roll No: 488661\n",
      "Roll No: 500658\n",
      "Roll No: 517837\n",
      "Roll No: 521087\n",
      "Roll No: 534763\n",
      "Roll No: 571782\n",
      "Roll No: 572815\n",
      "Roll No: 581065\n",
      "Roll No: 581858\n",
      "Roll No: 588946\n",
      "Roll No: 608522\n",
      "Roll No: 608952\n",
      "Roll No: 626000\n",
      "Roll No: 628849\n",
      "Roll No: 630568\n",
      "Roll No: 681499\n",
      "Roll No: 692318\n",
      "Roll No: 703403\n",
      "Roll No: 716985\n",
      "Roll No: 721490\n",
      "Roll No: 750259\n",
      "Roll No: 773982\n",
      "Roll No: 781075\n",
      "Roll No: 782129\n",
      "Roll No: 787967\n",
      "Roll No: 810863\n",
      "Roll No: 834515\n",
      "Roll No: 836881\n",
      "Roll No: 845623\n",
      "Roll No: 871746\n",
      "Roll No: 879634\n",
      "Roll No: 881983\n",
      "Roll No: 888886\n",
      "Roll No: 928288\n",
      "Roll No: 955757\n",
      "Roll No: 960395\n",
      "Roll No: 970791\n",
      "Roll No: 971123\n",
      "Roll No: 973158\n",
      "Roll No: 981238\n",
      "Roll No: 986057\n",
      "Roll No: 998293\n",
      "\n",
      "number of students meeting graduation requirements:  66\n"
     ]
    }
   ],
   "source": [
    "stud_dict = {} # rollno : [core_creds, dept_elective_creds, flexible_elective_creds, hasmed_creds]\n",
    "cred_index = {'core':0,'department_elective':1,'flexible_elective':2,'hasmed_elective':3}\n",
    "\n",
    "count = 0\n",
    "no=0\n",
    "f = open('student_records.csv', \"r\")\n",
    "for x in f:\n",
    "    row = x.split(',')\n",
    "    if count > 0:\n",
    "        if int(row[0]) not in stud_dict.keys() and row[-2] in cred_index.keys():\n",
    "            stud_dict[int(row[0])] = [0,0,0,0]\n",
    "            stud_dict[int(row[0])][cred_index[row[-2]]] += int(row[2])\n",
    "        elif row[-2] in cred_index.keys(): \n",
    "            stud_dict[int(row[0])][cred_index[row[-2]]] += int(row[2])\n",
    "    count+=1\n",
    "\n",
    "print(\"students meeting graduation requirements: \\n\")\n",
    "for i in sorted(stud_dict.keys()):\n",
    "    if stud_dict[i][0] >= 20 and stud_dict[i][1] >= 15 and stud_dict[i][2] >= 10 and stud_dict[i][3] >= 5:\n",
    "        print(\"Roll No:\",i)\n",
    "        no+=1\n",
    "print(\"\\nnumber of students meeting graduation requirements: \",no)"
   ]
  },
  {
   "cell_type": "markdown",
   "metadata": {},
   "source": [
    "#### 2.d: Print out the names of all students who completed a minor \n",
    "Atleast 10 credits with minor tag in a specific department"
   ]
  },
  {
   "cell_type": "code",
   "execution_count": 98,
   "metadata": {},
   "outputs": [
    {
     "name": "stdout",
     "output_type": "stream",
     "text": [
      "students who completed a minor: \n",
      "\n",
      "Roll No: 124663\n",
      "Roll No: 138296\n",
      "Roll No: 143142\n",
      "Roll No: 143856\n",
      "Roll No: 144528\n",
      "Roll No: 145372\n",
      "Roll No: 159438\n",
      "Roll No: 199713\n",
      "Roll No: 214270\n",
      "Roll No: 283796\n",
      "Roll No: 301135\n",
      "Roll No: 329535\n",
      "Roll No: 344265\n",
      "Roll No: 358405\n",
      "Roll No: 364146\n",
      "Roll No: 379479\n",
      "Roll No: 381227\n",
      "Roll No: 381526\n",
      "Roll No: 388969\n",
      "Roll No: 461584\n",
      "Roll No: 461971\n",
      "Roll No: 465496\n",
      "Roll No: 478606\n",
      "Roll No: 482623\n",
      "Roll No: 521087\n",
      "Roll No: 571782\n",
      "Roll No: 572815\n",
      "Roll No: 581065\n",
      "Roll No: 581858\n",
      "Roll No: 588946\n",
      "Roll No: 597353\n",
      "Roll No: 608952\n",
      "Roll No: 613401\n",
      "Roll No: 628849\n",
      "Roll No: 630568\n",
      "Roll No: 681499\n",
      "Roll No: 703403\n",
      "Roll No: 716985\n",
      "Roll No: 718510\n",
      "Roll No: 721490\n",
      "Roll No: 733782\n",
      "Roll No: 773982\n",
      "Roll No: 781075\n",
      "Roll No: 782129\n",
      "Roll No: 788020\n",
      "Roll No: 810863\n",
      "Roll No: 816041\n",
      "Roll No: 836431\n",
      "Roll No: 836881\n",
      "Roll No: 845623\n",
      "Roll No: 847809\n",
      "Roll No: 851029\n",
      "Roll No: 888886\n",
      "Roll No: 907454\n",
      "Roll No: 955757\n",
      "Roll No: 960395\n",
      "Roll No: 971123\n",
      "Roll No: 973158\n",
      "Roll No: 993835\n",
      "Roll No: 995208\n",
      "\n",
      "number of students completing a minor: 60\n"
     ]
    }
   ],
   "source": [
    "stud_dict = {} # rollno : {minor_depts:creds}\n",
    "\n",
    "f = open('student_records.csv', \"r\")\n",
    "count = 0\n",
    "no = 0\n",
    "for x in f:\n",
    "    row = x.split(',')\n",
    "    if count > 0 and row[-2] == 'minor':\n",
    "        if int(row[0]) not in list(stud_dict.keys()):\n",
    "            stud_dict[int(row[0])] = {'EP':0,'EE':0,'EC':0,'CH':0,'CSE':0,'CE':0,'MM':0,\"IE\":0,'MA':0,'ME':0}\n",
    "        stud_dict[int(row[0])][row[-3][-4::-1][::-1]] +=  int(row[2])\n",
    "    count += 1\n",
    "\n",
    "print(\"students who completed a minor: \\n\")\n",
    "for i in sorted(stud_dict.keys()):\n",
    "    for j in stud_dict[i].keys():\n",
    "        if stud_dict[i][j] >= 10:\n",
    "            print(\"Roll No:\",i) \n",
    "            no += 1\n",
    "            break # doesn't double count two minors, giving us the exact number of students who've completed at least 1 minor\n",
    "print(\"\\nnumber of students completing a minor:\", no)"
   ]
  },
  {
   "cell_type": "markdown",
   "metadata": {},
   "source": [
    "#### 2.e: Print out the names of all students who completed a honours\n",
    "Atleast 10 credits with honours tag and 20 core credits"
   ]
  },
  {
   "cell_type": "code",
   "execution_count": 25,
   "metadata": {},
   "outputs": [
    {
     "name": "stdout",
     "output_type": "stream",
     "text": [
      "students who completed an honours: \n",
      "\n",
      "Roll No: 124663\n",
      "Roll No: 143142\n",
      "Roll No: 143856\n",
      "Roll No: 144528\n",
      "Roll No: 145372\n",
      "Roll No: 150503\n",
      "Roll No: 159438\n",
      "Roll No: 199713\n",
      "Roll No: 203200\n",
      "Roll No: 207443\n",
      "Roll No: 208100\n",
      "Roll No: 214270\n",
      "Roll No: 265922\n",
      "Roll No: 282482\n",
      "Roll No: 283796\n",
      "Roll No: 294697\n",
      "Roll No: 310604\n",
      "Roll No: 327122\n",
      "Roll No: 362471\n",
      "Roll No: 364146\n",
      "Roll No: 379479\n",
      "Roll No: 388969\n",
      "Roll No: 391848\n",
      "Roll No: 458200\n",
      "Roll No: 461971\n",
      "Roll No: 465496\n",
      "Roll No: 482623\n",
      "Roll No: 485484\n",
      "Roll No: 488661\n",
      "Roll No: 500658\n",
      "Roll No: 517837\n",
      "Roll No: 521087\n",
      "Roll No: 534763\n",
      "Roll No: 571782\n",
      "Roll No: 572815\n",
      "Roll No: 581065\n",
      "Roll No: 581858\n",
      "Roll No: 582912\n",
      "Roll No: 588946\n",
      "Roll No: 589528\n",
      "Roll No: 608522\n",
      "Roll No: 608952\n",
      "Roll No: 613401\n",
      "Roll No: 626000\n",
      "Roll No: 628849\n",
      "Roll No: 630568\n",
      "Roll No: 681499\n",
      "Roll No: 692318\n",
      "Roll No: 703403\n",
      "Roll No: 716985\n",
      "Roll No: 718510\n",
      "Roll No: 721490\n",
      "Roll No: 750259\n",
      "Roll No: 773982\n",
      "Roll No: 781075\n",
      "Roll No: 782129\n",
      "Roll No: 787967\n",
      "Roll No: 788020\n",
      "Roll No: 810863\n",
      "Roll No: 834515\n",
      "Roll No: 836881\n",
      "Roll No: 845623\n",
      "Roll No: 870642\n",
      "Roll No: 871746\n",
      "Roll No: 879634\n",
      "Roll No: 881983\n",
      "Roll No: 888886\n",
      "Roll No: 928288\n",
      "Roll No: 955757\n",
      "Roll No: 960395\n",
      "Roll No: 970791\n",
      "Roll No: 971123\n",
      "Roll No: 973158\n",
      "Roll No: 986057\n",
      "Roll No: 998293\n",
      "\n",
      "number of students completing an honours:  75\n"
     ]
    }
   ],
   "source": [
    "stud_dict = {} # rollno : [core_creds, honours_creds]\n",
    "cred_index = {'core':0,'honours':1}\n",
    "\n",
    "count = 0\n",
    "f = open('student_records.csv', \"r\")\n",
    "no=0\n",
    "for x in f:\n",
    "    row  = x.split(',')\n",
    "    if count > 0:\n",
    "        if int(row[0]) not in stud_dict.keys() and row[-2] in cred_index.keys():\n",
    "            stud_dict[int(row[0])] = [0,0]\n",
    "            stud_dict[int(row[0])][cred_index[row[-2]]] += int(row[2])\n",
    "        elif row[-2] in cred_index.keys(): \n",
    "            stud_dict[int(row[0])][cred_index[row[-2]]] += int(row[2])\n",
    "    count+=1\n",
    "\n",
    "print(\"students who completed an honours: \\n\")\n",
    "for i in sorted(stud_dict.keys()):\n",
    "    if stud_dict[i][0] >= 20 and stud_dict[i][1] >= 10:\n",
    "        print(\"Roll No:\",i)\n",
    "        no+=1\n",
    "print(\"\\nnumber of students completing an honours: \", no)"
   ]
  },
  {
   "cell_type": "markdown",
   "metadata": {},
   "source": [
    "# **SciPy** "
   ]
  },
  {
   "cell_type": "markdown",
   "metadata": {},
   "source": [
    "## Part A\n",
    "Minimize the function $f(x, y) = 2(x - y - 3)^2 + 4(x + 2y + 1)^4$.<br>\n",
    "With the constraints : $ x - y \\ge -3, (x + 2)^2 + (y + 1)^2 \\le 5$ <br>\n",
    "Using scipy.optimize.minimize with constraints. (Hint: Look at the examples in the official documentation)"
   ]
  },
  {
   "cell_type": "code",
   "execution_count": 95,
   "metadata": {},
   "outputs": [
    {
     "name": "stdout",
     "output_type": "stream",
     "text": [
      "f(x,y) is minimized at : x = 0.2349 and y = -0.9285 (under given constraints)\n",
      "minm of f(x,y) is:, 7.3453\n",
      "(values are rounded to the 4th decimal place)\n"
     ]
    }
   ],
   "source": [
    "from scipy.optimize import minimize\n",
    "import numpy as np\n",
    "\n",
    "def objective(x):\n",
    "    return 2*(x[0]-x[1]-3)**2 + 4*(x[0]+2*x[1]+1)**4\n",
    "def c1(x):\n",
    "    return x[0]-x[1]+3\n",
    "def c2(x):\n",
    "    return 5-(x[0]+2)**2-(x[1]+1)**2\n",
    "\n",
    "res = minimize(fun=objective,x0=[1,1],constraints=[{'type':'ineq','fun':c1},{'type':'ineq','fun':c2}])\n",
    "\n",
    "print(\"f(x,y) is minimized at : x =\",round(res['x'][0],4),\"and y =\",round(res['x'][1],4),'(under given constraints)')\n",
    "print(\"minm of f(x,y) is:,\",round(objective([round(res['x'][0],4),round(res['x'][1],4)]),4))\n",
    "print(\"(values are rounded to the 4th decimal place)\")"
   ]
  },
  {
   "cell_type": "markdown",
   "metadata": {},
   "source": [
    "# Part B\n",
    "Evaluate the line integral of the function $f(x, y) = x^2 + y^4$ along the circle $ x^2 + y^2 = 3 $ anticlockwise (scalar integral, not vector). You must use scipy for integration but you may use parameterization"
   ]
  },
  {
   "cell_type": "code",
   "execution_count": 70,
   "metadata": {},
   "outputs": [
    {
     "name": "stdout",
     "output_type": "stream",
     "text": [
      "the value of the line integral is:  53.05\n"
     ]
    }
   ],
   "source": [
    "from scipy.integrate import quad\n",
    "from math import sin, cos, pi\n",
    "\n",
    "# parametrizing to polar coordinates\n",
    "R = 3**0.5\n",
    "I = quad(lambda theta: (((R**2)*(cos(theta)**2))+((R**4)*(sin(theta)**4)))*R,0,2*pi) # anti-clockwise implies 0 to 2*pi\n",
    "\n",
    "print('the value of the line integral is: ', round(I[0],2))"
   ]
  },
  {
   "cell_type": "markdown",
   "metadata": {},
   "source": [
    "# **Numpy**"
   ]
  },
  {
   "cell_type": "markdown",
   "metadata": {},
   "source": [
    "### Read Lisan_Al_Gaib.pdf for problem description and complete the following functions"
   ]
  },
  {
   "cell_type": "code",
   "execution_count": 1,
   "metadata": {},
   "outputs": [],
   "source": [
    "import time # to time the execution\n",
    "import numpy as np\n",
    "import matplotlib.pyplot as plt"
   ]
  },
  {
   "cell_type": "code",
   "execution_count": 4,
   "metadata": {},
   "outputs": [
    {
     "name": "stdout",
     "output_type": "stream",
     "text": [
      "Spice Location Coordinates Array is: \n",
      "[[-2.12729941e+00  1.75357153e+00]\n",
      " [-3.40030291e-01 -6.70757901e-03]\n",
      " [-3.21990680e+00 -2.22002740e+00]\n",
      " [-3.70958194e+00  1.33088073e+00]\n",
      " [-9.94424941e-01  5.40362889e-01]\n",
      " [-3.89707753e+00  1.84954926e+00]\n",
      " [ 1.62213204e-01 -1.93830445e+00]\n",
      " [-3.09087516e+00 -2.08297745e+00]\n",
      " [-2.47878879e+00 -3.76217842e-01]\n",
      " [-1.84027491e+00 -1.54385430e+00]\n",
      " [-9.40735526e-01 -2.30253070e+00]\n",
      " [-2.53927676e+00 -1.16819078e+00]\n",
      " [-1.71965008e+00  9.25879807e-01]\n",
      " [-3.00163109e+00 -4.28827808e-01]\n",
      " [-1.03792716e+00 -2.76774794e+00]\n",
      " [-9.62275740e-01 -2.14737938e+00]\n",
      " [-3.67474204e+00  1.74442769e+00]\n",
      " [ 8.28160165e-01  1.04198674e+00]\n",
      " [-2.47693115e+00 -2.51163943e+00]\n",
      " [-5.78834867e-01 -7.99237531e-01]\n",
      " [-3.38980883e+00 -5.24115449e-01]\n",
      " [-3.82805739e+00  1.54660201e+00]\n",
      " [-2.70610009e+00  3.12611422e-01]\n",
      " [-2.44144462e+00 -3.99659894e-01]\n",
      " [-1.26644860e+00 -2.07572772e+00]\n",
      " [ 8.47923139e-01  8.75664117e-01]\n",
      " [ 6.97494708e-01  1.47413675e+00]\n",
      " [-1.01050011e+00  1.60937118e+00]\n",
      " [-3.55753749e+00 -2.02008569e+00]\n",
      " [-3.77386356e+00 -1.37334835e+00]\n",
      " [ 3.94338645e+00  4.35674516e+00]\n",
      " [ 6.14368755e+00  4.78376663e+00]\n",
      " [ 3.40467255e+00  5.71348042e+00]\n",
      " [ 2.70462112e+00  7.01098490e+00]\n",
      " [ 2.37275322e+00  7.93443468e+00]\n",
      " [ 5.86122385e+00  3.99357841e+00]\n",
      " [ 2.02761059e+00  7.07730714e+00]\n",
      " [ 5.53428672e+00  6.64503584e+00]\n",
      " [ 5.85635173e+00  3.37022326e+00]\n",
      " [ 3.79232864e+00  3.57934530e+00]\n",
      " [ 6.31551713e+00  6.11649063e+00]\n",
      " [ 3.65449012e+00  3.31779175e+00]\n",
      " [ 3.55491161e+00  4.62591661e+00]\n",
      " [ 5.64803089e+00  6.18778736e+00]\n",
      " [ 6.43606371e+00  5.36107463e+00]\n",
      " [ 2.59797123e+00  6.56622394e+00]\n",
      " [ 5.80392524e+00  5.80638599e+00]\n",
      " [ 5.85483590e+00  5.46897798e+00]\n",
      " [ 4.61366415e+00  5.13770509e+00]\n",
      " [ 2.12709563e+00  3.53945713e+00]\n",
      " [ 2.15714593e+00  6.18205206e+00]\n",
      " [ 3.57177991e+00  5.54285346e+00]\n",
      " [ 6.53783237e+00  4.24646115e+00]\n",
      " [ 4.05191462e+00  6.77775569e+00]\n",
      " [ 3.14399083e+00  3.38489955e+00]\n",
      " [ 3.44875726e+00  3.80610644e+00]\n",
      " [ 6.64848826e+00  7.04060190e+00]\n",
      " [ 5.16701878e+00  7.35730295e+00]\n",
      " [ 6.01836038e+00  3.93285029e+00]\n",
      " [ 6.46279499e+00  5.69671121e+00]]\n"
     ]
    }
   ],
   "source": [
    "### TODO 1\n",
    "### Load data from data_path\n",
    "### Check the input file spice_locations.txt to understand the Data Format\n",
    "### Return : np array of size Nx2\n",
    "import numpy as np\n",
    "import decimal\n",
    "\n",
    "def load_data(data_path):\n",
    "    return np.loadtxt(data_path, delimiter=',')\n",
    "    \n",
    "print(\"Spice Location Coordinates Array is: \")\n",
    "print(load_data('spice_locations.txt'))"
   ]
  },
  {
   "cell_type": "code",
   "execution_count": 7,
   "metadata": {},
   "outputs": [],
   "source": [
    "### TODO 2.1\n",
    "### If init_centers is None, initialize the centers by selecting K data points at random without replacement\n",
    "### Else, use the centers provided in init_centers\n",
    "### Return : np array of size Kx2\n",
    "import numpy as np\n",
    "\n",
    "def initialise_centers(data, K, init_centers=None):\n",
    "    if init_centers == None:\n",
    "        return data[np.random.randint(0,len(data)-1,size = K),:]\n",
    "    else:\n",
    "        return init_centers"
   ]
  },
  {
   "cell_type": "code",
   "execution_count": 8,
   "metadata": {},
   "outputs": [],
   "source": [
    "### TODO 2.2\n",
    "### Initialize the labels to all ones to size (N,) where N is the number of data points\n",
    "### Return : np array of size N\n",
    "def initialise_labels(data):\n",
    "    return np.ones(len(data))"
   ]
  },
  {
   "cell_type": "code",
   "execution_count": 11,
   "metadata": {},
   "outputs": [],
   "source": [
    "### TODO 3.1 : E step\n",
    "### For Each data point, find the distance to each center\n",
    "### Return : np array of size NxK\n",
    "def calculate_distances(data, centers):\n",
    "    arr = []\n",
    "    for x,y in data:\n",
    "        l =[]\n",
    "        for xC,yC in centers:\n",
    "            l.append(((x-xC)**2 + (y-yC)**2)**0.5)\n",
    "        arr.append(l)    \n",
    "    arr = np.array(arr)\n",
    "    return(arr)"
   ]
  },
  {
   "cell_type": "code",
   "execution_count": 10,
   "metadata": {},
   "outputs": [],
   "source": [
    "### TODO 3.2 : E step\n",
    "### For Each data point, assign the label of the nearest center\n",
    "### Return : np array of size N\n",
    "def update_labels(distances):\n",
    "    return np.argmin(distances,axis=1)\n",
    "    "
   ]
  },
  {
   "cell_type": "code",
   "execution_count": 59,
   "metadata": {},
   "outputs": [],
   "source": [
    "### TODO 4 : M step\n",
    "### Update the centers to the mean of the data points assigned to it\n",
    "### Return : np array of size Kx2\n",
    "def update_centers(data, labels, K):\n",
    "    arr = np.zeros(shape=(K,2))\n",
    "    k_c = np.zeros(shape=(K,2))\n",
    "    ind = 0\n",
    "    for i,j in data:\n",
    "        arr[labels[ind]][0] += i \n",
    "        arr[labels[ind]][1] += j\n",
    "        k_c[labels[ind]][0] += 1\n",
    "        k_c[labels[ind]][1] += 1\n",
    "        ind += 1\n",
    "    arr = arr/k_c\n",
    "    return np.array(arr)"
   ]
  },
  {
   "cell_type": "code",
   "execution_count": 30,
   "metadata": {},
   "outputs": [],
   "source": [
    "### TODO 6 : Check convergence\n",
    "### Check if the labels have changed from the previous iteration\n",
    "### Return : True / False\n",
    "def check_termination(labels1, labels2):\n",
    "    if labels1.all() == labels2.all():\n",
    "        return True\n",
    "    else:\n",
    "        return False"
   ]
  },
  {
   "cell_type": "code",
   "execution_count": 50,
   "metadata": {},
   "outputs": [],
   "source": [
    "### DON'T CHANGE ANYTHING IN THE FOLLOWING FUNCTION\n",
    "def kmeans(data_path:str, K:int, init_centers):\n",
    "    '''\n",
    "    Input :\n",
    "        data (type str): path to the file containing the data\n",
    "        K (type int): number of clusters\n",
    "        init_centers (type numpy.ndarray): initial centers. shape = (K, 2) or None\n",
    "    Output :\n",
    "        centers (type numpy.ndarray): final centers. shape = (K, 2)\n",
    "        labels (type numpy.ndarray): label of each data point. shape = (N,)\n",
    "        time (type float): time taken by the algorithm to converge in seconds\n",
    "    N is the number of data points each of shape (2,)\n",
    "    '''\n",
    "    data = load_data(data_path)    \n",
    "    centers = initialise_centers(data, K, init_centers)\n",
    "    labels = initialise_labels(data)\n",
    "\n",
    "    start_time = time.time() # Time stamp \n",
    "\n",
    "    while True:\n",
    "        distances = calculate_distances(data, centers)\n",
    "        labels_new = update_labels(distances)\n",
    "        centers = update_centers(data, labels_new, K)\n",
    "        if check_termination(labels, labels_new): break\n",
    "        else: labels = labels_new\n",
    " \n",
    "    end_time = time.time() # Time stamp after the algorithm ends\n",
    "    return centers, labels, end_time - start_time "
   ]
  },
  {
   "cell_type": "code",
   "execution_count": null,
   "metadata": {},
   "outputs": [],
   "source": [
    "### TODO 7\n",
    "def visualise(data_path, labels, centers):\n",
    "    data = load_data(data_path)\n",
    "\n",
    "    # Scatter plot of the data points\n",
    "    plt.scatter(data[:, 0], data[:, 1], c=labels, s=50, cmap='viridis')\n",
    "    plt.scatter(centers[:, 0], centers[:, 1], c='black', s=200, alpha=0.5)\n",
    "\n",
    "    ### Set title as 'K-means clustering'\n",
    "    plt.title('K-means clustering')\n",
    "    ### Set xlabel as 'Longitude'\n",
    "    plt.xlabel('Longitude')\n",
    "    ### Set ylabel as 'Latitude'\n",
    "    plt.ylabel('Latitude')\n",
    "    ### Save the plot as 'kmeans.png'\n",
    "    plt.savefig('kmeans2.png')\n",
    "\n",
    "    ## DO NOT CHANGE THE FOLLOWING LINE\n",
    "    return plt"
   ]
  },
  {
   "cell_type": "code",
   "execution_count": null,
   "metadata": {},
   "outputs": [
    {
     "name": "stdout",
     "output_type": "stream",
     "text": [
      "Time taken for the algorithm to converge: 0.0017919540405273438\n"
     ]
    },
    {
     "data": {
      "text/plain": [
       "<module 'matplotlib.pyplot' from 'C:\\\\Users\\\\abhin\\\\AppData\\\\Local\\\\Packages\\\\PythonSoftwareFoundation.Python.3.10_qbz5n2kfra8p0\\\\LocalCache\\\\local-packages\\\\Python310\\\\site-packages\\\\matplotlib\\\\pyplot.py'>"
      ]
     },
     "execution_count": 74,
     "metadata": {},
     "output_type": "execute_result"
    },
    {
     "data": {
      "image/png": "[encoded data removed]",
      "text/plain": [
       "<Figure size 640x480 with 1 Axes>"
      ]
     },
     "metadata": {},
     "output_type": "display_data"
    }
   ],
   "source": [
    "### After you have completed the above functions, run the following code to generate the plot\n",
    "data_path = 'spice_locations.txt'\n",
    "K, init_centers = 4, None\n",
    "centers, labels, time_taken = kmeans(data_path, K, init_centers)\n",
    "print('Time taken for the algorithm to converge:', time_taken)\n",
    "visualise(data_path, labels, centers)"
   ]
  }
 ],
 "metadata": {
  "kernelspec": {
   "display_name": "Python 3",
   "language": "python",
   "name": "python3"
  },
  "language_info": {
   "codemirror_mode": {
    "name": "ipython",
    "version": 3
   },
   "file_extension": ".py",
   "mimetype": "text/x-python",
   "name": "python",
   "nbconvert_exporter": "python",
   "pygments_lexer": "ipython3",
   "version": "3.10.11"
  }
 },
 "nbformat": 4,
 "nbformat_minor": 2
}
